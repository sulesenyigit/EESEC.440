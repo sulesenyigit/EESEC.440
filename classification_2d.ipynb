{
  "nbformat": 4,
  "nbformat_minor": 0,
  "metadata": {
    "colab": {
      "name": "classification_2d.ipynb",
      "provenance": [],
      "authorship_tag": "ABX9TyMb3xSsSPBYtsdNBsH0wnZX",
      "include_colab_link": true
    },
    "kernelspec": {
      "name": "python3",
      "display_name": "Python 3"
    },
    "language_info": {
      "name": "python"
    }
  },
  "cells": [
    {
      "cell_type": "markdown",
      "metadata": {
        "id": "view-in-github",
        "colab_type": "text"
      },
      "source": [
        "<a href=\"https://colab.research.google.com/github/sulesenyigit/EESEC.440/blob/main/classification_2d.ipynb\" target=\"_parent\"><img src=\"https://colab.research.google.com/assets/colab-badge.svg\" alt=\"Open In Colab\"/></a>"
      ]
    },
    {
      "cell_type": "markdown",
      "metadata": {
        "id": "XpN4uxjHh1g4"
      },
      "source": [
        "En başta kütüphaneleri dahil ediyoruz.\n",
        "\n",
        "First we import the libraries."
      ]
    },
    {
      "cell_type": "code",
      "metadata": {
        "id": "5E4s6EPzh2pz"
      },
      "source": [
        "import tensorflow as tf # Google tarafından geliştirilen TF kütüphanesi, en ciddi rakibi Facebook tarfından geliştirilen Pytorch kütüphanesi\n",
        "import matplotlib.pyplot as plt # grafik çizdirmek için\n",
        "import numpy as np # numerical python kütüphanesi\n",
        "import pandas as pd\n",
        "import sys\n",
        "from numpy import random # rasgele veri üretmek için kullanacağımız kütüphane"
      ],
      "execution_count": 90,
      "outputs": []
    },
    {
      "cell_type": "markdown",
      "metadata": {
        "id": "kA69XPqMi3mX"
      },
      "source": [
        "Bugün bakacağımız örnekte kendimiz sentetik 2-boyutlu veri üretip ardından bu veriyi etiketleyeceğiz. Üreteceğimiz 2-boyutlu veri toplam n=1000 tane olacak. Bu veri kartezyen koordinat sistemi üzerinde x ve y eksenlerinde -1'den 1'e kadar yer alan aralıkta değer alan rastgele noktalar şeklinde düşünülebilir. Kartezyen koordinat sisteminde x ekseni x1, y ekseni ise x2 isimlendirilecek. Burada x = (x1, x2)T bizim özellik vektörümüz (**feature**)."
      ]
    },
    {
      "cell_type": "code",
      "metadata": {
        "id": "G1KIZEGOi82p"
      },
      "source": [
        "n = 500 # veri sayısı n = 20 (n = 1000 bu örnek için iyi bir seçim)\n",
        "x = 2*random.rand(n,2)-1\n",
        "#print(x)\n",
        "#print(x[0,1])"
      ],
      "execution_count": 91,
      "outputs": []
    },
    {
      "cell_type": "markdown",
      "metadata": {
        "id": "tzCY0MsljhkX"
      },
      "source": [
        "Rasgele ürettiğimiz veriyi şimdi çizdirelim.\n",
        "\n",
        "Now let's plot the randomly generated 2d data."
      ]
    },
    {
      "cell_type": "code",
      "metadata": {
        "colab": {
          "base_uri": "https://localhost:8080/",
          "height": 312
        },
        "id": "KvHrb1Ipji4D",
        "outputId": "3257c09c-9061-4907-bff5-0590646eaf2c"
      },
      "source": [
        "plt.scatter(x[:,0],x[:,1], marker='.', color='b')\n",
        "# plt.legend(loc='upper right')\n",
        "plt.title(\"Generated 2d data\")\n",
        "plt.xlabel(\"x1\")\n",
        "plt.ylabel(\"x2\")"
      ],
      "execution_count": 92,
      "outputs": [
        {
          "output_type": "execute_result",
          "data": {
            "text/plain": [
              "Text(0, 0.5, 'x2')"
            ]
          },
          "metadata": {
            "tags": []
          },
          "execution_count": 92
        },
        {
          "output_type": "display_data",
          "data": {
            "image/png": "[encoded data removed]",
            "text/plain": [
              "<Figure size 432x288 with 1 Axes>"
            ]
          },
          "metadata": {
            "tags": [],
            "needs_background": "light"
          }
        }
      ]
    },
    {
      "cell_type": "markdown",
      "metadata": {
        "id": "JPut4Jz3jt-K"
      },
      "source": [
        "Şimdi hedef verisini (target data) oluşturalım. Yani ürettiğimiz veriyi etiketleyelim (data annotation). Sınıflandırmayı dilediğimiz gibi yapabiliriz bu örnekte. Burada biz birim çember içersinde yer alan noktaları 1, dışında kalan noktaları 0 olarak etiketleyeceğiz."
      ]
    },
    {
      "cell_type": "code",
      "metadata": {
        "id": "5yJCc2LXjwIl"
      },
      "source": [
        "t = np.zeros((n,1))\n",
        "#print(t)\n",
        "for i, point in enumerate(x):\n",
        "  if (point[0]**2 + point[1]**2) >= 1:\n",
        "    t[i] = 1\n",
        "#print(\"Güncellenmiş hedef verisini yazdıralım.\")\n",
        "#print(t)"
      ],
      "execution_count": 93,
      "outputs": []
    },
    {
      "cell_type": "markdown",
      "metadata": {
        "id": "k2i1SKhskEaW"
      },
      "source": [
        "Şimdi tekrar 2b veriyi görselleştirelim ama bu sefer birim çemberin içinde kalan veriyi (yani 1 etiketine sahip olan noktaları) kırmızı renkte çizdirelim."
      ]
    },
    {
      "cell_type": "code",
      "metadata": {
        "colab": {
          "base_uri": "https://localhost:8080/",
          "height": 312
        },
        "id": "ltt5VUwskGXa",
        "outputId": "2a14da89-3832-438d-ed23-eadf05c5166a"
      },
      "source": [
        "for i, label in enumerate(t):\n",
        "  if (label):\n",
        "    plt.scatter(x[i,0],x[i,1], marker='.', color='r') # edgecolors='none'\n",
        "  else:\n",
        "    plt.scatter(x[i,0],x[i,1], marker='.', color='b') # edgecolors='none'\n",
        "plt.title(\"Generated 2d data\")\n",
        "plt.xlabel(\"x1\")\n",
        "plt.ylabel(\"x2\")"
      ],
      "execution_count": 94,
      "outputs": [
        {
          "output_type": "execute_result",
          "data": {
            "text/plain": [
              "Text(0, 0.5, 'x2')"
            ]
          },
          "metadata": {
            "tags": []
          },
          "execution_count": 94
        },
        {
          "output_type": "display_data",
          "data": {
            "image/png": "[encoded data removed]",
            "text/plain": [
              "<Figure size 432x288 with 1 Axes>"
            ]
          },
          "metadata": {
            "tags": [],
            "needs_background": "light"
          }
        }
      ]
    },
    {
      "cell_type": "markdown",
      "metadata": {
        "id": "1ysBqCOakROR"
      },
      "source": [
        "TF kütüphanesinin içerisinde yer alan Keras kütüphanesiyle bir tane çok katmanlı sinir ağı (multi-layer perceptron - MLP) oluşturalım. Giriş sayısının iki, çıkış sayısının bir olduğunu, gizli katman (hidden layer) sayısını ve bu katmanlardaki nöron sayısını (number of neurons) ve de hangi aktivasyon fonksiyonunu (activation function) kullandığımızı adım adım seçeceğiz."
      ]
    },
    {
      "cell_type": "code",
      "metadata": {
        "id": "3TtGh6C8kSXh"
      },
      "source": [
        "model = tf.keras.models.Sequential(layers=None, name='2d_classifier_MLP')\n",
        "model.add(tf.keras.layers.Dense(20, input_dim = 2, activation = 'tanh', name='HL1'))\n",
        "model.add(tf.keras.layers.Dense(30, activation = 'tanh', name='HL2'))\n",
        "model.add(tf.keras.layers.Dense(40, activation = 'tanh', name='HL3'))\n",
        "model.add(tf.keras.layers.Dense(30, activation = 'tanh', name='HL4'))\n",
        "model.add(tf.keras.layers.Dense(1, activation = 'tanh', name='outputLayer'))"
      ],
      "execution_count": 95,
      "outputs": []
    },
    {
      "cell_type": "markdown",
      "metadata": {
        "id": "Im-XhwO3kfJl"
      },
      "source": [
        "Yukarıdaki kodda yapay sinir ağımızın yapısını (structure) yani katman sayısı, katmanlardaki nöron miktarı, nöron çıkışlarında kullanılan aktivasyon fonksiyon tiplerini belirledik. Bir sonraki adım olarak öğrenme (learning) işlemini başlatacağız. Şimdi öğrenme işleminin nasıl olacağını belirleyelim."
      ]
    },
    {
      "cell_type": "code",
      "metadata": {
        "colab": {
          "base_uri": "https://localhost:8080/"
        },
        "id": "HU2BEHbOkg60",
        "outputId": "6e55fa94-eb16-4cc2-a0e1-510b58f98784"
      },
      "source": [
        "model.compile(optimizer='adam', loss='mean_squared_error', metrics='accuracy')\n",
        "model.summary()"
      ],
      "execution_count": 96,
      "outputs": [
        {
          "output_type": "stream",
          "text": [
            "Model: \"2d_classifier_MLP\"\n",
            "_________________________________________________________________\n",
            "Layer (type)                 Output Shape              Param #   \n",
            "=================================================================\n",
            "HL1 (Dense)                  (None, 20)                60        \n",
            "_________________________________________________________________\n",
            "HL2 (Dense)                  (None, 30)                630       \n",
            "_________________________________________________________________\n",
            "HL3 (Dense)                  (None, 40)                1240      \n",
            "_________________________________________________________________\n",
            "HL4 (Dense)                  (None, 30)                1230      \n",
            "_________________________________________________________________\n",
            "outputLayer (Dense)          (None, 1)                 31        \n",
            "=================================================================\n",
            "Total params: 3,191\n",
            "Trainable params: 3,191\n",
            "Non-trainable params: 0\n",
            "_________________________________________________________________\n"
          ],
          "name": "stdout"
        }
      ]
    },
    {
      "cell_type": "markdown",
      "metadata": {
        "id": "-EpADNjFkqRb"
      },
      "source": [
        "Son olarak konfigürasyonunu tamamladığımız çok katmanlı yapay sinir ağının eğitimini başlatıyoruz."
      ]
    },
    {
      "cell_type": "code",
      "metadata": {
        "colab": {
          "base_uri": "https://localhost:8080/"
        },
        "id": "yZP-tGkXkrie",
        "outputId": "ceff6871-e2b4-47cf-f473-8f1964f7551d"
      },
      "source": [
        "history = model.fit(x, t, epochs=300, verbose=1, validation_split=0.2)"
      ],
      "execution_count": 97,
      "outputs": [
        {
          "output_type": "stream",
          "text": [
            "Epoch 1/300\n",
            "13/13 [==============================] - 1s 16ms/step - loss: 0.2201 - accuracy: 0.7720 - val_loss: 0.1875 - val_accuracy: 0.7700\n",
            "Epoch 2/300\n",
            "13/13 [==============================] - 0s 5ms/step - loss: 0.1864 - accuracy: 0.7663 - val_loss: 0.1927 - val_accuracy: 0.7700\n",
            "Epoch 3/300\n",
            "13/13 [==============================] - 0s 5ms/step - loss: 0.1995 - accuracy: 0.7486 - val_loss: 0.1830 - val_accuracy: 0.7700\n",
            "Epoch 4/300\n",
            "13/13 [==============================] - 0s 4ms/step - loss: 0.1885 - accuracy: 0.7593 - val_loss: 0.1837 - val_accuracy: 0.7700\n",
            "Epoch 5/300\n",
            "13/13 [==============================] - 0s 5ms/step - loss: 0.1718 - accuracy: 0.7825 - val_loss: 0.1805 - val_accuracy: 0.7700\n",
            "Epoch 6/300\n",
            "13/13 [==============================] - 0s 5ms/step - loss: 0.2047 - accuracy: 0.7333 - val_loss: 0.1798 - val_accuracy: 0.7700\n",
            "Epoch 7/300\n",
            "13/13 [==============================] - 0s 6ms/step - loss: 0.1885 - accuracy: 0.7515 - val_loss: 0.1793 - val_accuracy: 0.7700\n",
            "Epoch 8/300\n",
            "13/13 [==============================] - 0s 5ms/step - loss: 0.1840 - accuracy: 0.7561 - val_loss: 0.1772 - val_accuracy: 0.7700\n",
            "Epoch 9/300\n",
            "13/13 [==============================] - 0s 4ms/step - loss: 0.1835 - accuracy: 0.7565 - val_loss: 0.1796 - val_accuracy: 0.7700\n",
            "Epoch 10/300\n",
            "13/13 [==============================] - 0s 5ms/step - loss: 0.1854 - accuracy: 0.7543 - val_loss: 0.1748 - val_accuracy: 0.7700\n",
            "Epoch 11/300\n",
            "13/13 [==============================] - 0s 4ms/step - loss: 0.1894 - accuracy: 0.7419 - val_loss: 0.1731 - val_accuracy: 0.7700\n",
            "Epoch 12/300\n",
            "13/13 [==============================] - 0s 5ms/step - loss: 0.1955 - accuracy: 0.7300 - val_loss: 0.1703 - val_accuracy: 0.7700\n",
            "Epoch 13/300\n",
            "13/13 [==============================] - 0s 5ms/step - loss: 0.1665 - accuracy: 0.7785 - val_loss: 0.1714 - val_accuracy: 0.7700\n",
            "Epoch 14/300\n",
            "13/13 [==============================] - 0s 5ms/step - loss: 0.1718 - accuracy: 0.7652 - val_loss: 0.1653 - val_accuracy: 0.7700\n",
            "Epoch 15/300\n",
            "13/13 [==============================] - 0s 5ms/step - loss: 0.1772 - accuracy: 0.7517 - val_loss: 0.1617 - val_accuracy: 0.7700\n",
            "Epoch 16/300\n",
            "13/13 [==============================] - 0s 5ms/step - loss: 0.1600 - accuracy: 0.7748 - val_loss: 0.1574 - val_accuracy: 0.7700\n",
            "Epoch 17/300\n",
            "13/13 [==============================] - 0s 5ms/step - loss: 0.1711 - accuracy: 0.7456 - val_loss: 0.1512 - val_accuracy: 0.7700\n",
            "Epoch 18/300\n",
            "13/13 [==============================] - 0s 5ms/step - loss: 0.1539 - accuracy: 0.7727 - val_loss: 0.1473 - val_accuracy: 0.7700\n",
            "Epoch 19/300\n",
            "13/13 [==============================] - 0s 5ms/step - loss: 0.1487 - accuracy: 0.7803 - val_loss: 0.1393 - val_accuracy: 0.7700\n",
            "Epoch 20/300\n",
            "13/13 [==============================] - 0s 5ms/step - loss: 0.1515 - accuracy: 0.7604 - val_loss: 0.1384 - val_accuracy: 0.7700\n",
            "Epoch 21/300\n",
            "13/13 [==============================] - 0s 5ms/step - loss: 0.1534 - accuracy: 0.7598 - val_loss: 0.1266 - val_accuracy: 0.7700\n",
            "Epoch 22/300\n",
            "13/13 [==============================] - 0s 4ms/step - loss: 0.1394 - accuracy: 0.7734 - val_loss: 0.1242 - val_accuracy: 0.7700\n",
            "Epoch 23/300\n",
            "13/13 [==============================] - 0s 5ms/step - loss: 0.1321 - accuracy: 0.7637 - val_loss: 0.1192 - val_accuracy: 0.7700\n",
            "Epoch 24/300\n",
            "13/13 [==============================] - 0s 5ms/step - loss: 0.1284 - accuracy: 0.7839 - val_loss: 0.1194 - val_accuracy: 0.8500\n",
            "Epoch 25/300\n",
            "13/13 [==============================] - 0s 4ms/step - loss: 0.1374 - accuracy: 0.7774 - val_loss: 0.1206 - val_accuracy: 0.7700\n",
            "Epoch 26/300\n",
            "13/13 [==============================] - 0s 5ms/step - loss: 0.1227 - accuracy: 0.7896 - val_loss: 0.1207 - val_accuracy: 0.8600\n",
            "Epoch 27/300\n",
            "13/13 [==============================] - 0s 6ms/step - loss: 0.1265 - accuracy: 0.8120 - val_loss: 0.1196 - val_accuracy: 0.8000\n",
            "Epoch 28/300\n",
            "13/13 [==============================] - 0s 5ms/step - loss: 0.1319 - accuracy: 0.7819 - val_loss: 0.1156 - val_accuracy: 0.8800\n",
            "Epoch 29/300\n",
            "13/13 [==============================] - 0s 5ms/step - loss: 0.1361 - accuracy: 0.7867 - val_loss: 0.1178 - val_accuracy: 0.7700\n",
            "Epoch 30/300\n",
            "13/13 [==============================] - 0s 5ms/step - loss: 0.1359 - accuracy: 0.7658 - val_loss: 0.1168 - val_accuracy: 0.8400\n",
            "Epoch 31/300\n",
            "13/13 [==============================] - 0s 4ms/step - loss: 0.1293 - accuracy: 0.8109 - val_loss: 0.1074 - val_accuracy: 0.8400\n",
            "Epoch 32/300\n",
            "13/13 [==============================] - 0s 4ms/step - loss: 0.1223 - accuracy: 0.8044 - val_loss: 0.1121 - val_accuracy: 0.9000\n",
            "Epoch 33/300\n",
            "13/13 [==============================] - 0s 4ms/step - loss: 0.1197 - accuracy: 0.8448 - val_loss: 0.1041 - val_accuracy: 0.8200\n",
            "Epoch 34/300\n",
            "13/13 [==============================] - 0s 4ms/step - loss: 0.1145 - accuracy: 0.8271 - val_loss: 0.1031 - val_accuracy: 0.9000\n",
            "Epoch 35/300\n",
            "13/13 [==============================] - 0s 4ms/step - loss: 0.1182 - accuracy: 0.8422 - val_loss: 0.0999 - val_accuracy: 0.8700\n",
            "Epoch 36/300\n",
            "13/13 [==============================] - 0s 5ms/step - loss: 0.1065 - accuracy: 0.8479 - val_loss: 0.0996 - val_accuracy: 0.9000\n",
            "Epoch 37/300\n",
            "13/13 [==============================] - 0s 5ms/step - loss: 0.1047 - accuracy: 0.8552 - val_loss: 0.0980 - val_accuracy: 0.9200\n",
            "Epoch 38/300\n",
            "13/13 [==============================] - 0s 5ms/step - loss: 0.1045 - accuracy: 0.8547 - val_loss: 0.1013 - val_accuracy: 0.8700\n",
            "Epoch 39/300\n",
            "13/13 [==============================] - 0s 6ms/step - loss: 0.1057 - accuracy: 0.8404 - val_loss: 0.0989 - val_accuracy: 0.9100\n",
            "Epoch 40/300\n",
            "13/13 [==============================] - 0s 5ms/step - loss: 0.0983 - accuracy: 0.8751 - val_loss: 0.1027 - val_accuracy: 0.9300\n",
            "Epoch 41/300\n",
            "13/13 [==============================] - 0s 5ms/step - loss: 0.1089 - accuracy: 0.9056 - val_loss: 0.1013 - val_accuracy: 0.8800\n",
            "Epoch 42/300\n",
            "13/13 [==============================] - 0s 4ms/step - loss: 0.1039 - accuracy: 0.8561 - val_loss: 0.0984 - val_accuracy: 0.9000\n",
            "Epoch 43/300\n",
            "13/13 [==============================] - 0s 4ms/step - loss: 0.1071 - accuracy: 0.8787 - val_loss: 0.0977 - val_accuracy: 0.9200\n",
            "Epoch 44/300\n",
            "13/13 [==============================] - 0s 5ms/step - loss: 0.0972 - accuracy: 0.9206 - val_loss: 0.0962 - val_accuracy: 0.9300\n",
            "Epoch 45/300\n",
            "13/13 [==============================] - 0s 4ms/step - loss: 0.0941 - accuracy: 0.9141 - val_loss: 0.1000 - val_accuracy: 0.9000\n",
            "Epoch 46/300\n",
            "13/13 [==============================] - 0s 5ms/step - loss: 0.1077 - accuracy: 0.8983 - val_loss: 0.0957 - val_accuracy: 0.9000\n",
            "Epoch 47/300\n",
            "13/13 [==============================] - 0s 5ms/step - loss: 0.0973 - accuracy: 0.8848 - val_loss: 0.0922 - val_accuracy: 0.9500\n",
            "Epoch 48/300\n",
            "13/13 [==============================] - 0s 5ms/step - loss: 0.0920 - accuracy: 0.9118 - val_loss: 0.0913 - val_accuracy: 0.9500\n",
            "Epoch 49/300\n",
            "13/13 [==============================] - 0s 5ms/step - loss: 0.0942 - accuracy: 0.9286 - val_loss: 0.0946 - val_accuracy: 0.9200\n",
            "Epoch 50/300\n",
            "13/13 [==============================] - 0s 4ms/step - loss: 0.0925 - accuracy: 0.9123 - val_loss: 0.0917 - val_accuracy: 0.9600\n",
            "Epoch 51/300\n",
            "13/13 [==============================] - 0s 5ms/step - loss: 0.0884 - accuracy: 0.9524 - val_loss: 0.0926 - val_accuracy: 0.9200\n",
            "Epoch 52/300\n",
            "13/13 [==============================] - 0s 6ms/step - loss: 0.0856 - accuracy: 0.9162 - val_loss: 0.0940 - val_accuracy: 0.9400\n",
            "Epoch 53/300\n",
            "13/13 [==============================] - 0s 5ms/step - loss: 0.0920 - accuracy: 0.9340 - val_loss: 0.0915 - val_accuracy: 0.9400\n",
            "Epoch 54/300\n",
            "13/13 [==============================] - 0s 5ms/step - loss: 0.0909 - accuracy: 0.9355 - val_loss: 0.1042 - val_accuracy: 0.8800\n",
            "Epoch 55/300\n",
            "13/13 [==============================] - 0s 5ms/step - loss: 0.1044 - accuracy: 0.8966 - val_loss: 0.0911 - val_accuracy: 0.9500\n",
            "Epoch 56/300\n",
            "13/13 [==============================] - 0s 4ms/step - loss: 0.0860 - accuracy: 0.9494 - val_loss: 0.0973 - val_accuracy: 0.9000\n",
            "Epoch 57/300\n",
            "13/13 [==============================] - 0s 5ms/step - loss: 0.0992 - accuracy: 0.8837 - val_loss: 0.0907 - val_accuracy: 0.9300\n",
            "Epoch 58/300\n",
            "13/13 [==============================] - 0s 4ms/step - loss: 0.0856 - accuracy: 0.9432 - val_loss: 0.0967 - val_accuracy: 0.9000\n",
            "Epoch 59/300\n",
            "13/13 [==============================] - 0s 5ms/step - loss: 0.0920 - accuracy: 0.9152 - val_loss: 0.0903 - val_accuracy: 0.9300\n",
            "Epoch 60/300\n",
            "13/13 [==============================] - 0s 5ms/step - loss: 0.0783 - accuracy: 0.9456 - val_loss: 0.0891 - val_accuracy: 0.9300\n",
            "Epoch 61/300\n",
            "13/13 [==============================] - 0s 5ms/step - loss: 0.0913 - accuracy: 0.8991 - val_loss: 0.0862 - val_accuracy: 0.9600\n",
            "Epoch 62/300\n",
            "13/13 [==============================] - 0s 4ms/step - loss: 0.0813 - accuracy: 0.9427 - val_loss: 0.0845 - val_accuracy: 0.9600\n",
            "Epoch 63/300\n",
            "13/13 [==============================] - 0s 5ms/step - loss: 0.0886 - accuracy: 0.9109 - val_loss: 0.0865 - val_accuracy: 0.9300\n",
            "Epoch 64/300\n",
            "13/13 [==============================] - 0s 4ms/step - loss: 0.0848 - accuracy: 0.9360 - val_loss: 0.0845 - val_accuracy: 0.9700\n",
            "Epoch 65/300\n",
            "13/13 [==============================] - 0s 4ms/step - loss: 0.0897 - accuracy: 0.9488 - val_loss: 0.0915 - val_accuracy: 0.9200\n",
            "Epoch 66/300\n",
            "13/13 [==============================] - 0s 5ms/step - loss: 0.0912 - accuracy: 0.9244 - val_loss: 0.0941 - val_accuracy: 0.9000\n",
            "Epoch 67/300\n",
            "13/13 [==============================] - 0s 4ms/step - loss: 0.0865 - accuracy: 0.9011 - val_loss: 0.0825 - val_accuracy: 0.9600\n",
            "Epoch 68/300\n",
            "13/13 [==============================] - 0s 5ms/step - loss: 0.0838 - accuracy: 0.9241 - val_loss: 0.0821 - val_accuracy: 0.9600\n",
            "Epoch 69/300\n",
            "13/13 [==============================] - 0s 4ms/step - loss: 0.0831 - accuracy: 0.9099 - val_loss: 0.0845 - val_accuracy: 0.9200\n",
            "Epoch 70/300\n",
            "13/13 [==============================] - 0s 5ms/step - loss: 0.0842 - accuracy: 0.9339 - val_loss: 0.0826 - val_accuracy: 0.9600\n",
            "Epoch 71/300\n",
            "13/13 [==============================] - 0s 5ms/step - loss: 0.0804 - accuracy: 0.9516 - val_loss: 0.0827 - val_accuracy: 0.9500\n",
            "Epoch 72/300\n",
            "13/13 [==============================] - 0s 5ms/step - loss: 0.0776 - accuracy: 0.9451 - val_loss: 0.0814 - val_accuracy: 0.9300\n",
            "Epoch 73/300\n",
            "13/13 [==============================] - 0s 5ms/step - loss: 0.0780 - accuracy: 0.9261 - val_loss: 0.0793 - val_accuracy: 0.9300\n",
            "Epoch 74/300\n",
            "13/13 [==============================] - 0s 5ms/step - loss: 0.0876 - accuracy: 0.9230 - val_loss: 0.0830 - val_accuracy: 0.9200\n",
            "Epoch 75/300\n",
            "13/13 [==============================] - 0s 5ms/step - loss: 0.0790 - accuracy: 0.9317 - val_loss: 0.0789 - val_accuracy: 0.9400\n",
            "Epoch 76/300\n",
            "13/13 [==============================] - 0s 4ms/step - loss: 0.0798 - accuracy: 0.9444 - val_loss: 0.0771 - val_accuracy: 0.9600\n",
            "Epoch 77/300\n",
            "13/13 [==============================] - 0s 4ms/step - loss: 0.0765 - accuracy: 0.9385 - val_loss: 0.0771 - val_accuracy: 0.9400\n",
            "Epoch 78/300\n",
            "13/13 [==============================] - 0s 4ms/step - loss: 0.0726 - accuracy: 0.9474 - val_loss: 0.0754 - val_accuracy: 0.9400\n",
            "Epoch 79/300\n",
            "13/13 [==============================] - 0s 4ms/step - loss: 0.0784 - accuracy: 0.9425 - val_loss: 0.0799 - val_accuracy: 0.9400\n",
            "Epoch 80/300\n",
            "13/13 [==============================] - 0s 4ms/step - loss: 0.0790 - accuracy: 0.9286 - val_loss: 0.0825 - val_accuracy: 0.9300\n",
            "Epoch 81/300\n",
            "13/13 [==============================] - 0s 5ms/step - loss: 0.0795 - accuracy: 0.9224 - val_loss: 0.0758 - val_accuracy: 0.9400\n",
            "Epoch 82/300\n",
            "13/13 [==============================] - 0s 5ms/step - loss: 0.0727 - accuracy: 0.9296 - val_loss: 0.0757 - val_accuracy: 0.9100\n",
            "Epoch 83/300\n",
            "13/13 [==============================] - 0s 5ms/step - loss: 0.0769 - accuracy: 0.9405 - val_loss: 0.0726 - val_accuracy: 0.9400\n",
            "Epoch 84/300\n",
            "13/13 [==============================] - 0s 6ms/step - loss: 0.0678 - accuracy: 0.9474 - val_loss: 0.0718 - val_accuracy: 0.9200\n",
            "Epoch 85/300\n",
            "13/13 [==============================] - 0s 5ms/step - loss: 0.0721 - accuracy: 0.9505 - val_loss: 0.0711 - val_accuracy: 0.9400\n",
            "Epoch 86/300\n",
            "13/13 [==============================] - 0s 6ms/step - loss: 0.0694 - accuracy: 0.9563 - val_loss: 0.0722 - val_accuracy: 0.9400\n",
            "Epoch 87/300\n",
            "13/13 [==============================] - 0s 4ms/step - loss: 0.0701 - accuracy: 0.9405 - val_loss: 0.0704 - val_accuracy: 0.9500\n",
            "Epoch 88/300\n",
            "13/13 [==============================] - 0s 4ms/step - loss: 0.0709 - accuracy: 0.9316 - val_loss: 0.0666 - val_accuracy: 0.9500\n",
            "Epoch 89/300\n",
            "13/13 [==============================] - 0s 5ms/step - loss: 0.0694 - accuracy: 0.9521 - val_loss: 0.0677 - val_accuracy: 0.9300\n",
            "Epoch 90/300\n",
            "13/13 [==============================] - 0s 5ms/step - loss: 0.0727 - accuracy: 0.9363 - val_loss: 0.0656 - val_accuracy: 0.9700\n",
            "Epoch 91/300\n",
            "13/13 [==============================] - 0s 6ms/step - loss: 0.0618 - accuracy: 0.9577 - val_loss: 0.0656 - val_accuracy: 0.9400\n",
            "Epoch 92/300\n",
            "13/13 [==============================] - 0s 5ms/step - loss: 0.0644 - accuracy: 0.9489 - val_loss: 0.0628 - val_accuracy: 0.9600\n",
            "Epoch 93/300\n",
            "13/13 [==============================] - 0s 4ms/step - loss: 0.0635 - accuracy: 0.9432 - val_loss: 0.0676 - val_accuracy: 0.9500\n",
            "Epoch 94/300\n",
            "13/13 [==============================] - 0s 5ms/step - loss: 0.0613 - accuracy: 0.9687 - val_loss: 0.0620 - val_accuracy: 0.9500\n",
            "Epoch 95/300\n",
            "13/13 [==============================] - 0s 4ms/step - loss: 0.0641 - accuracy: 0.9342 - val_loss: 0.0611 - val_accuracy: 0.9400\n",
            "Epoch 96/300\n",
            "13/13 [==============================] - 0s 4ms/step - loss: 0.0613 - accuracy: 0.9442 - val_loss: 0.0595 - val_accuracy: 0.9600\n",
            "Epoch 97/300\n",
            "13/13 [==============================] - 0s 6ms/step - loss: 0.0578 - accuracy: 0.9541 - val_loss: 0.0583 - val_accuracy: 0.9400\n",
            "Epoch 98/300\n",
            "13/13 [==============================] - 0s 5ms/step - loss: 0.0542 - accuracy: 0.9498 - val_loss: 0.0593 - val_accuracy: 0.9300\n",
            "Epoch 99/300\n",
            "13/13 [==============================] - 0s 5ms/step - loss: 0.0549 - accuracy: 0.9539 - val_loss: 0.0604 - val_accuracy: 0.9300\n",
            "Epoch 100/300\n",
            "13/13 [==============================] - 0s 5ms/step - loss: 0.0571 - accuracy: 0.9507 - val_loss: 0.0595 - val_accuracy: 0.9100\n",
            "Epoch 101/300\n",
            "13/13 [==============================] - 0s 5ms/step - loss: 0.0533 - accuracy: 0.9572 - val_loss: 0.0568 - val_accuracy: 0.9200\n",
            "Epoch 102/300\n",
            "13/13 [==============================] - 0s 5ms/step - loss: 0.0541 - accuracy: 0.9595 - val_loss: 0.0567 - val_accuracy: 0.9500\n",
            "Epoch 103/300\n",
            "13/13 [==============================] - 0s 5ms/step - loss: 0.0491 - accuracy: 0.9741 - val_loss: 0.0536 - val_accuracy: 0.9200\n",
            "Epoch 104/300\n",
            "13/13 [==============================] - 0s 5ms/step - loss: 0.0496 - accuracy: 0.9509 - val_loss: 0.0569 - val_accuracy: 0.9300\n",
            "Epoch 105/300\n",
            "13/13 [==============================] - 0s 5ms/step - loss: 0.0477 - accuracy: 0.9523 - val_loss: 0.0527 - val_accuracy: 0.9400\n",
            "Epoch 106/300\n",
            "13/13 [==============================] - 0s 4ms/step - loss: 0.0513 - accuracy: 0.9488 - val_loss: 0.0547 - val_accuracy: 0.9300\n",
            "Epoch 107/300\n",
            "13/13 [==============================] - 0s 5ms/step - loss: 0.0490 - accuracy: 0.9474 - val_loss: 0.0543 - val_accuracy: 0.9300\n",
            "Epoch 108/300\n",
            "13/13 [==============================] - 0s 5ms/step - loss: 0.0426 - accuracy: 0.9692 - val_loss: 0.0553 - val_accuracy: 0.9100\n",
            "Epoch 109/300\n",
            "13/13 [==============================] - 0s 5ms/step - loss: 0.0506 - accuracy: 0.9464 - val_loss: 0.0556 - val_accuracy: 0.9100\n",
            "Epoch 110/300\n",
            "13/13 [==============================] - 0s 5ms/step - loss: 0.0427 - accuracy: 0.9673 - val_loss: 0.0510 - val_accuracy: 0.9200\n",
            "Epoch 111/300\n",
            "13/13 [==============================] - 0s 4ms/step - loss: 0.0488 - accuracy: 0.9599 - val_loss: 0.0528 - val_accuracy: 0.9100\n",
            "Epoch 112/300\n",
            "13/13 [==============================] - 0s 5ms/step - loss: 0.0470 - accuracy: 0.9587 - val_loss: 0.0546 - val_accuracy: 0.9100\n",
            "Epoch 113/300\n",
            "13/13 [==============================] - 0s 5ms/step - loss: 0.0427 - accuracy: 0.9561 - val_loss: 0.0492 - val_accuracy: 0.9100\n",
            "Epoch 114/300\n",
            "13/13 [==============================] - 0s 6ms/step - loss: 0.0474 - accuracy: 0.9544 - val_loss: 0.0514 - val_accuracy: 0.9300\n",
            "Epoch 115/300\n",
            "13/13 [==============================] - 0s 5ms/step - loss: 0.0407 - accuracy: 0.9699 - val_loss: 0.0488 - val_accuracy: 0.9200\n",
            "Epoch 116/300\n",
            "13/13 [==============================] - 0s 5ms/step - loss: 0.0380 - accuracy: 0.9647 - val_loss: 0.0541 - val_accuracy: 0.9200\n",
            "Epoch 117/300\n",
            "13/13 [==============================] - 0s 5ms/step - loss: 0.0405 - accuracy: 0.9672 - val_loss: 0.0508 - val_accuracy: 0.9300\n",
            "Epoch 118/300\n",
            "13/13 [==============================] - 0s 4ms/step - loss: 0.0373 - accuracy: 0.9758 - val_loss: 0.0491 - val_accuracy: 0.9200\n",
            "Epoch 119/300\n",
            "13/13 [==============================] - 0s 5ms/step - loss: 0.0426 - accuracy: 0.9591 - val_loss: 0.0488 - val_accuracy: 0.9200\n",
            "Epoch 120/300\n",
            "13/13 [==============================] - 0s 5ms/step - loss: 0.0384 - accuracy: 0.9667 - val_loss: 0.0545 - val_accuracy: 0.9200\n",
            "Epoch 121/300\n",
            "13/13 [==============================] - 0s 5ms/step - loss: 0.0433 - accuracy: 0.9663 - val_loss: 0.0488 - val_accuracy: 0.9200\n",
            "Epoch 122/300\n",
            "13/13 [==============================] - 0s 5ms/step - loss: 0.0461 - accuracy: 0.9461 - val_loss: 0.0527 - val_accuracy: 0.9100\n",
            "Epoch 123/300\n",
            "13/13 [==============================] - 0s 4ms/step - loss: 0.0411 - accuracy: 0.9643 - val_loss: 0.0484 - val_accuracy: 0.9300\n",
            "Epoch 124/300\n",
            "13/13 [==============================] - 0s 5ms/step - loss: 0.0396 - accuracy: 0.9536 - val_loss: 0.0521 - val_accuracy: 0.9300\n",
            "Epoch 125/300\n",
            "13/13 [==============================] - 0s 5ms/step - loss: 0.0381 - accuracy: 0.9698 - val_loss: 0.0474 - val_accuracy: 0.9200\n",
            "Epoch 126/300\n",
            "13/13 [==============================] - 0s 4ms/step - loss: 0.0435 - accuracy: 0.9642 - val_loss: 0.0497 - val_accuracy: 0.9100\n",
            "Epoch 127/300\n",
            "13/13 [==============================] - 0s 5ms/step - loss: 0.0330 - accuracy: 0.9806 - val_loss: 0.0478 - val_accuracy: 0.9400\n",
            "Epoch 128/300\n",
            "13/13 [==============================] - 0s 5ms/step - loss: 0.0347 - accuracy: 0.9710 - val_loss: 0.0471 - val_accuracy: 0.9100\n",
            "Epoch 129/300\n",
            "13/13 [==============================] - 0s 4ms/step - loss: 0.0395 - accuracy: 0.9541 - val_loss: 0.0518 - val_accuracy: 0.9200\n",
            "Epoch 130/300\n",
            "13/13 [==============================] - 0s 5ms/step - loss: 0.0396 - accuracy: 0.9638 - val_loss: 0.0469 - val_accuracy: 0.9300\n",
            "Epoch 131/300\n",
            "13/13 [==============================] - 0s 6ms/step - loss: 0.0416 - accuracy: 0.9585 - val_loss: 0.0502 - val_accuracy: 0.9200\n",
            "Epoch 132/300\n",
            "13/13 [==============================] - 0s 5ms/step - loss: 0.0359 - accuracy: 0.9728 - val_loss: 0.0466 - val_accuracy: 0.9400\n",
            "Epoch 133/300\n",
            "13/13 [==============================] - 0s 5ms/step - loss: 0.0368 - accuracy: 0.9582 - val_loss: 0.0487 - val_accuracy: 0.9300\n",
            "Epoch 134/300\n",
            "13/13 [==============================] - 0s 5ms/step - loss: 0.0399 - accuracy: 0.9599 - val_loss: 0.0488 - val_accuracy: 0.9400\n",
            "Epoch 135/300\n",
            "13/13 [==============================] - 0s 4ms/step - loss: 0.0324 - accuracy: 0.9718 - val_loss: 0.0472 - val_accuracy: 0.9200\n",
            "Epoch 136/300\n",
            "13/13 [==============================] - 0s 5ms/step - loss: 0.0358 - accuracy: 0.9740 - val_loss: 0.0471 - val_accuracy: 0.9300\n",
            "Epoch 137/300\n",
            "13/13 [==============================] - 0s 4ms/step - loss: 0.0381 - accuracy: 0.9620 - val_loss: 0.0491 - val_accuracy: 0.9000\n",
            "Epoch 138/300\n",
            "13/13 [==============================] - 0s 4ms/step - loss: 0.0382 - accuracy: 0.9672 - val_loss: 0.0453 - val_accuracy: 0.9200\n",
            "Epoch 139/300\n",
            "13/13 [==============================] - 0s 5ms/step - loss: 0.0313 - accuracy: 0.9700 - val_loss: 0.0479 - val_accuracy: 0.9500\n",
            "Epoch 140/300\n",
            "13/13 [==============================] - 0s 4ms/step - loss: 0.0328 - accuracy: 0.9668 - val_loss: 0.0476 - val_accuracy: 0.9200\n",
            "Epoch 141/300\n",
            "13/13 [==============================] - 0s 5ms/step - loss: 0.0353 - accuracy: 0.9712 - val_loss: 0.0491 - val_accuracy: 0.9200\n",
            "Epoch 142/300\n",
            "13/13 [==============================] - 0s 5ms/step - loss: 0.0376 - accuracy: 0.9670 - val_loss: 0.0447 - val_accuracy: 0.9200\n",
            "Epoch 143/300\n",
            "13/13 [==============================] - 0s 4ms/step - loss: 0.0334 - accuracy: 0.9769 - val_loss: 0.0471 - val_accuracy: 0.9300\n",
            "Epoch 144/300\n",
            "13/13 [==============================] - 0s 5ms/step - loss: 0.0345 - accuracy: 0.9683 - val_loss: 0.0491 - val_accuracy: 0.9400\n",
            "Epoch 145/300\n",
            "13/13 [==============================] - 0s 4ms/step - loss: 0.0371 - accuracy: 0.9682 - val_loss: 0.0465 - val_accuracy: 0.9500\n",
            "Epoch 146/300\n",
            "13/13 [==============================] - 0s 5ms/step - loss: 0.0329 - accuracy: 0.9729 - val_loss: 0.0460 - val_accuracy: 0.9400\n",
            "Epoch 147/300\n",
            "13/13 [==============================] - 0s 5ms/step - loss: 0.0290 - accuracy: 0.9726 - val_loss: 0.0468 - val_accuracy: 0.9400\n",
            "Epoch 148/300\n",
            "13/13 [==============================] - 0s 5ms/step - loss: 0.0350 - accuracy: 0.9656 - val_loss: 0.0468 - val_accuracy: 0.9300\n",
            "Epoch 149/300\n",
            "13/13 [==============================] - 0s 6ms/step - loss: 0.0333 - accuracy: 0.9697 - val_loss: 0.0433 - val_accuracy: 0.9400\n",
            "Epoch 150/300\n",
            "13/13 [==============================] - 0s 4ms/step - loss: 0.0259 - accuracy: 0.9868 - val_loss: 0.0503 - val_accuracy: 0.9200\n",
            "Epoch 151/300\n",
            "13/13 [==============================] - 0s 4ms/step - loss: 0.0271 - accuracy: 0.9806 - val_loss: 0.0451 - val_accuracy: 0.9400\n",
            "Epoch 152/300\n",
            "13/13 [==============================] - 0s 4ms/step - loss: 0.0335 - accuracy: 0.9684 - val_loss: 0.0473 - val_accuracy: 0.9200\n",
            "Epoch 153/300\n",
            "13/13 [==============================] - 0s 5ms/step - loss: 0.0288 - accuracy: 0.9752 - val_loss: 0.0448 - val_accuracy: 0.9200\n",
            "Epoch 154/300\n",
            "13/13 [==============================] - 0s 5ms/step - loss: 0.0293 - accuracy: 0.9761 - val_loss: 0.0446 - val_accuracy: 0.9500\n",
            "Epoch 155/300\n",
            "13/13 [==============================] - 0s 5ms/step - loss: 0.0341 - accuracy: 0.9621 - val_loss: 0.0427 - val_accuracy: 0.9300\n",
            "Epoch 156/300\n",
            "13/13 [==============================] - 0s 5ms/step - loss: 0.0279 - accuracy: 0.9756 - val_loss: 0.0461 - val_accuracy: 0.9200\n",
            "Epoch 157/300\n",
            "13/13 [==============================] - 0s 5ms/step - loss: 0.0362 - accuracy: 0.9701 - val_loss: 0.0417 - val_accuracy: 0.9500\n",
            "Epoch 158/300\n",
            "13/13 [==============================] - 0s 5ms/step - loss: 0.0294 - accuracy: 0.9711 - val_loss: 0.0477 - val_accuracy: 0.9300\n",
            "Epoch 159/300\n",
            "13/13 [==============================] - 0s 5ms/step - loss: 0.0356 - accuracy: 0.9727 - val_loss: 0.0459 - val_accuracy: 0.9300\n",
            "Epoch 160/300\n",
            "13/13 [==============================] - 0s 5ms/step - loss: 0.0328 - accuracy: 0.9795 - val_loss: 0.0447 - val_accuracy: 0.9300\n",
            "Epoch 161/300\n",
            "13/13 [==============================] - 0s 5ms/step - loss: 0.0261 - accuracy: 0.9783 - val_loss: 0.0446 - val_accuracy: 0.9500\n",
            "Epoch 162/300\n",
            "13/13 [==============================] - 0s 5ms/step - loss: 0.0318 - accuracy: 0.9715 - val_loss: 0.0443 - val_accuracy: 0.9300\n",
            "Epoch 163/300\n",
            "13/13 [==============================] - 0s 5ms/step - loss: 0.0323 - accuracy: 0.9626 - val_loss: 0.0491 - val_accuracy: 0.9300\n",
            "Epoch 164/300\n",
            "13/13 [==============================] - 0s 6ms/step - loss: 0.0325 - accuracy: 0.9572 - val_loss: 0.0414 - val_accuracy: 0.9200\n",
            "Epoch 165/300\n",
            "13/13 [==============================] - 0s 5ms/step - loss: 0.0343 - accuracy: 0.9607 - val_loss: 0.0510 - val_accuracy: 0.9300\n",
            "Epoch 166/300\n",
            "13/13 [==============================] - 0s 5ms/step - loss: 0.0327 - accuracy: 0.9632 - val_loss: 0.0433 - val_accuracy: 0.9200\n",
            "Epoch 167/300\n",
            "13/13 [==============================] - 0s 5ms/step - loss: 0.0344 - accuracy: 0.9612 - val_loss: 0.0473 - val_accuracy: 0.9300\n",
            "Epoch 168/300\n",
            "13/13 [==============================] - 0s 5ms/step - loss: 0.0317 - accuracy: 0.9672 - val_loss: 0.0420 - val_accuracy: 0.9500\n",
            "Epoch 169/300\n",
            "13/13 [==============================] - 0s 5ms/step - loss: 0.0336 - accuracy: 0.9692 - val_loss: 0.0428 - val_accuracy: 0.9300\n",
            "Epoch 170/300\n",
            "13/13 [==============================] - 0s 5ms/step - loss: 0.0292 - accuracy: 0.9734 - val_loss: 0.0418 - val_accuracy: 0.9400\n",
            "Epoch 171/300\n",
            "13/13 [==============================] - 0s 5ms/step - loss: 0.0223 - accuracy: 0.9800 - val_loss: 0.0454 - val_accuracy: 0.9400\n",
            "Epoch 172/300\n",
            "13/13 [==============================] - 0s 4ms/step - loss: 0.0316 - accuracy: 0.9753 - val_loss: 0.0418 - val_accuracy: 0.9500\n",
            "Epoch 173/300\n",
            "13/13 [==============================] - 0s 5ms/step - loss: 0.0308 - accuracy: 0.9684 - val_loss: 0.0481 - val_accuracy: 0.9300\n",
            "Epoch 174/300\n",
            "13/13 [==============================] - 0s 5ms/step - loss: 0.0339 - accuracy: 0.9576 - val_loss: 0.0455 - val_accuracy: 0.9200\n",
            "Epoch 175/300\n",
            "13/13 [==============================] - 0s 5ms/step - loss: 0.0305 - accuracy: 0.9609 - val_loss: 0.0398 - val_accuracy: 0.9600\n",
            "Epoch 176/300\n",
            "13/13 [==============================] - 0s 5ms/step - loss: 0.0283 - accuracy: 0.9774 - val_loss: 0.0470 - val_accuracy: 0.9300\n",
            "Epoch 177/300\n",
            "13/13 [==============================] - 0s 5ms/step - loss: 0.0284 - accuracy: 0.9759 - val_loss: 0.0410 - val_accuracy: 0.9400\n",
            "Epoch 178/300\n",
            "13/13 [==============================] - 0s 5ms/step - loss: 0.0291 - accuracy: 0.9747 - val_loss: 0.0429 - val_accuracy: 0.9500\n",
            "Epoch 179/300\n",
            "13/13 [==============================] - 0s 5ms/step - loss: 0.0331 - accuracy: 0.9703 - val_loss: 0.0440 - val_accuracy: 0.9300\n",
            "Epoch 180/300\n",
            "13/13 [==============================] - 0s 5ms/step - loss: 0.0289 - accuracy: 0.9677 - val_loss: 0.0399 - val_accuracy: 0.9500\n",
            "Epoch 181/300\n",
            "13/13 [==============================] - 0s 5ms/step - loss: 0.0302 - accuracy: 0.9719 - val_loss: 0.0410 - val_accuracy: 0.9500\n",
            "Epoch 182/300\n",
            "13/13 [==============================] - 0s 4ms/step - loss: 0.0305 - accuracy: 0.9699 - val_loss: 0.0422 - val_accuracy: 0.9500\n",
            "Epoch 183/300\n",
            "13/13 [==============================] - 0s 5ms/step - loss: 0.0267 - accuracy: 0.9756 - val_loss: 0.0390 - val_accuracy: 0.9300\n",
            "Epoch 184/300\n",
            "13/13 [==============================] - 0s 5ms/step - loss: 0.0270 - accuracy: 0.9707 - val_loss: 0.0444 - val_accuracy: 0.9300\n",
            "Epoch 185/300\n",
            "13/13 [==============================] - 0s 5ms/step - loss: 0.0283 - accuracy: 0.9722 - val_loss: 0.0429 - val_accuracy: 0.9200\n",
            "Epoch 186/300\n",
            "13/13 [==============================] - 0s 5ms/step - loss: 0.0248 - accuracy: 0.9784 - val_loss: 0.0402 - val_accuracy: 0.9300\n",
            "Epoch 187/300\n",
            "13/13 [==============================] - 0s 5ms/step - loss: 0.0283 - accuracy: 0.9723 - val_loss: 0.0402 - val_accuracy: 0.9500\n",
            "Epoch 188/300\n",
            "13/13 [==============================] - 0s 5ms/step - loss: 0.0435 - accuracy: 0.9521 - val_loss: 0.0394 - val_accuracy: 0.9500\n",
            "Epoch 189/300\n",
            "13/13 [==============================] - 0s 5ms/step - loss: 0.0297 - accuracy: 0.9645 - val_loss: 0.0469 - val_accuracy: 0.9400\n",
            "Epoch 190/300\n",
            "13/13 [==============================] - 0s 5ms/step - loss: 0.0345 - accuracy: 0.9613 - val_loss: 0.0402 - val_accuracy: 0.9400\n",
            "Epoch 191/300\n",
            "13/13 [==============================] - 0s 5ms/step - loss: 0.0318 - accuracy: 0.9630 - val_loss: 0.0465 - val_accuracy: 0.9300\n",
            "Epoch 192/300\n",
            "13/13 [==============================] - 0s 5ms/step - loss: 0.0243 - accuracy: 0.9804 - val_loss: 0.0427 - val_accuracy: 0.9400\n",
            "Epoch 193/300\n",
            "13/13 [==============================] - 0s 5ms/step - loss: 0.0264 - accuracy: 0.9684 - val_loss: 0.0384 - val_accuracy: 0.9400\n",
            "Epoch 194/300\n",
            "13/13 [==============================] - 0s 5ms/step - loss: 0.0274 - accuracy: 0.9797 - val_loss: 0.0402 - val_accuracy: 0.9500\n",
            "Epoch 195/300\n",
            "13/13 [==============================] - 0s 5ms/step - loss: 0.0289 - accuracy: 0.9604 - val_loss: 0.0400 - val_accuracy: 0.9600\n",
            "Epoch 196/300\n",
            "13/13 [==============================] - 0s 5ms/step - loss: 0.0270 - accuracy: 0.9798 - val_loss: 0.0375 - val_accuracy: 0.9400\n",
            "Epoch 197/300\n",
            "13/13 [==============================] - 0s 5ms/step - loss: 0.0216 - accuracy: 0.9833 - val_loss: 0.0424 - val_accuracy: 0.9400\n",
            "Epoch 198/300\n",
            "13/13 [==============================] - 0s 5ms/step - loss: 0.0238 - accuracy: 0.9791 - val_loss: 0.0414 - val_accuracy: 0.9300\n",
            "Epoch 199/300\n",
            "13/13 [==============================] - 0s 5ms/step - loss: 0.0251 - accuracy: 0.9832 - val_loss: 0.0430 - val_accuracy: 0.9400\n",
            "Epoch 200/300\n",
            "13/13 [==============================] - 0s 5ms/step - loss: 0.0236 - accuracy: 0.9779 - val_loss: 0.0379 - val_accuracy: 0.9500\n",
            "Epoch 201/300\n",
            "13/13 [==============================] - 0s 5ms/step - loss: 0.0255 - accuracy: 0.9726 - val_loss: 0.0412 - val_accuracy: 0.9400\n",
            "Epoch 202/300\n",
            "13/13 [==============================] - 0s 5ms/step - loss: 0.0243 - accuracy: 0.9735 - val_loss: 0.0448 - val_accuracy: 0.9200\n",
            "Epoch 203/300\n",
            "13/13 [==============================] - 0s 6ms/step - loss: 0.0271 - accuracy: 0.9706 - val_loss: 0.0367 - val_accuracy: 0.9500\n",
            "Epoch 204/300\n",
            "13/13 [==============================] - 0s 5ms/step - loss: 0.0268 - accuracy: 0.9765 - val_loss: 0.0393 - val_accuracy: 0.9500\n",
            "Epoch 205/300\n",
            "13/13 [==============================] - 0s 6ms/step - loss: 0.0301 - accuracy: 0.9764 - val_loss: 0.0379 - val_accuracy: 0.9400\n",
            "Epoch 206/300\n",
            "13/13 [==============================] - 0s 5ms/step - loss: 0.0311 - accuracy: 0.9586 - val_loss: 0.0443 - val_accuracy: 0.9500\n",
            "Epoch 207/300\n",
            "13/13 [==============================] - 0s 5ms/step - loss: 0.0259 - accuracy: 0.9711 - val_loss: 0.0377 - val_accuracy: 0.9400\n",
            "Epoch 208/300\n",
            "13/13 [==============================] - 0s 5ms/step - loss: 0.0255 - accuracy: 0.9677 - val_loss: 0.0393 - val_accuracy: 0.9500\n",
            "Epoch 209/300\n",
            "13/13 [==============================] - 0s 5ms/step - loss: 0.0286 - accuracy: 0.9667 - val_loss: 0.0378 - val_accuracy: 0.9500\n",
            "Epoch 210/300\n",
            "13/13 [==============================] - 0s 5ms/step - loss: 0.0242 - accuracy: 0.9688 - val_loss: 0.0376 - val_accuracy: 0.9400\n",
            "Epoch 211/300\n",
            "13/13 [==============================] - 0s 5ms/step - loss: 0.0307 - accuracy: 0.9612 - val_loss: 0.0435 - val_accuracy: 0.9300\n",
            "Epoch 212/300\n",
            "13/13 [==============================] - 0s 5ms/step - loss: 0.0197 - accuracy: 0.9768 - val_loss: 0.0366 - val_accuracy: 0.9600\n",
            "Epoch 213/300\n",
            "13/13 [==============================] - 0s 5ms/step - loss: 0.0222 - accuracy: 0.9820 - val_loss: 0.0375 - val_accuracy: 0.9600\n",
            "Epoch 214/300\n",
            "13/13 [==============================] - 0s 5ms/step - loss: 0.0220 - accuracy: 0.9864 - val_loss: 0.0373 - val_accuracy: 0.9700\n",
            "Epoch 215/300\n",
            "13/13 [==============================] - 0s 5ms/step - loss: 0.0220 - accuracy: 0.9746 - val_loss: 0.0371 - val_accuracy: 0.9500\n",
            "Epoch 216/300\n",
            "13/13 [==============================] - 0s 5ms/step - loss: 0.0227 - accuracy: 0.9684 - val_loss: 0.0360 - val_accuracy: 0.9500\n",
            "Epoch 217/300\n",
            "13/13 [==============================] - 0s 6ms/step - loss: 0.0202 - accuracy: 0.9794 - val_loss: 0.0364 - val_accuracy: 0.9400\n",
            "Epoch 218/300\n",
            "13/13 [==============================] - 0s 5ms/step - loss: 0.0195 - accuracy: 0.9816 - val_loss: 0.0383 - val_accuracy: 0.9700\n",
            "Epoch 219/300\n",
            "13/13 [==============================] - 0s 6ms/step - loss: 0.0263 - accuracy: 0.9772 - val_loss: 0.0351 - val_accuracy: 0.9700\n",
            "Epoch 220/300\n",
            "13/13 [==============================] - 0s 5ms/step - loss: 0.0310 - accuracy: 0.9625 - val_loss: 0.0429 - val_accuracy: 0.9400\n",
            "Epoch 221/300\n",
            "13/13 [==============================] - 0s 5ms/step - loss: 0.0239 - accuracy: 0.9764 - val_loss: 0.0356 - val_accuracy: 0.9600\n",
            "Epoch 222/300\n",
            "13/13 [==============================] - 0s 5ms/step - loss: 0.0250 - accuracy: 0.9705 - val_loss: 0.0379 - val_accuracy: 0.9500\n",
            "Epoch 223/300\n",
            "13/13 [==============================] - 0s 5ms/step - loss: 0.0251 - accuracy: 0.9688 - val_loss: 0.0347 - val_accuracy: 0.9700\n",
            "Epoch 224/300\n",
            "13/13 [==============================] - 0s 5ms/step - loss: 0.0234 - accuracy: 0.9731 - val_loss: 0.0361 - val_accuracy: 0.9700\n",
            "Epoch 225/300\n",
            "13/13 [==============================] - 0s 5ms/step - loss: 0.0221 - accuracy: 0.9779 - val_loss: 0.0359 - val_accuracy: 0.9400\n",
            "Epoch 226/300\n",
            "13/13 [==============================] - 0s 6ms/step - loss: 0.0293 - accuracy: 0.9725 - val_loss: 0.0369 - val_accuracy: 0.9600\n",
            "Epoch 227/300\n",
            "13/13 [==============================] - 0s 6ms/step - loss: 0.0266 - accuracy: 0.9751 - val_loss: 0.0386 - val_accuracy: 0.9400\n",
            "Epoch 228/300\n",
            "13/13 [==============================] - 0s 6ms/step - loss: 0.0218 - accuracy: 0.9790 - val_loss: 0.0342 - val_accuracy: 0.9700\n",
            "Epoch 229/300\n",
            "13/13 [==============================] - 0s 5ms/step - loss: 0.0191 - accuracy: 0.9839 - val_loss: 0.0391 - val_accuracy: 0.9400\n",
            "Epoch 230/300\n",
            "13/13 [==============================] - 0s 5ms/step - loss: 0.0221 - accuracy: 0.9760 - val_loss: 0.0404 - val_accuracy: 0.9300\n",
            "Epoch 231/300\n",
            "13/13 [==============================] - 0s 6ms/step - loss: 0.0294 - accuracy: 0.9655 - val_loss: 0.0364 - val_accuracy: 0.9700\n",
            "Epoch 232/300\n",
            "13/13 [==============================] - 0s 5ms/step - loss: 0.0272 - accuracy: 0.9659 - val_loss: 0.0359 - val_accuracy: 0.9500\n",
            "Epoch 233/300\n",
            "13/13 [==============================] - 0s 5ms/step - loss: 0.0384 - accuracy: 0.9388 - val_loss: 0.0404 - val_accuracy: 0.9500\n",
            "Epoch 234/300\n",
            "13/13 [==============================] - 0s 5ms/step - loss: 0.0293 - accuracy: 0.9709 - val_loss: 0.0343 - val_accuracy: 0.9600\n",
            "Epoch 235/300\n",
            "13/13 [==============================] - 0s 5ms/step - loss: 0.0261 - accuracy: 0.9627 - val_loss: 0.0384 - val_accuracy: 0.9600\n",
            "Epoch 236/300\n",
            "13/13 [==============================] - 0s 5ms/step - loss: 0.0262 - accuracy: 0.9742 - val_loss: 0.0391 - val_accuracy: 0.9500\n",
            "Epoch 237/300\n",
            "13/13 [==============================] - 0s 6ms/step - loss: 0.0268 - accuracy: 0.9683 - val_loss: 0.0384 - val_accuracy: 0.9400\n",
            "Epoch 238/300\n",
            "13/13 [==============================] - 0s 5ms/step - loss: 0.0259 - accuracy: 0.9683 - val_loss: 0.0329 - val_accuracy: 0.9700\n",
            "Epoch 239/300\n",
            "13/13 [==============================] - 0s 5ms/step - loss: 0.0205 - accuracy: 0.9786 - val_loss: 0.0362 - val_accuracy: 0.9700\n",
            "Epoch 240/300\n",
            "13/13 [==============================] - 0s 5ms/step - loss: 0.0277 - accuracy: 0.9653 - val_loss: 0.0339 - val_accuracy: 0.9700\n",
            "Epoch 241/300\n",
            "13/13 [==============================] - 0s 6ms/step - loss: 0.0204 - accuracy: 0.9823 - val_loss: 0.0341 - val_accuracy: 0.9500\n",
            "Epoch 242/300\n",
            "13/13 [==============================] - 0s 5ms/step - loss: 0.0250 - accuracy: 0.9666 - val_loss: 0.0366 - val_accuracy: 0.9600\n",
            "Epoch 243/300\n",
            "13/13 [==============================] - 0s 5ms/step - loss: 0.0232 - accuracy: 0.9695 - val_loss: 0.0341 - val_accuracy: 0.9400\n",
            "Epoch 244/300\n",
            "13/13 [==============================] - 0s 5ms/step - loss: 0.0282 - accuracy: 0.9637 - val_loss: 0.0349 - val_accuracy: 0.9700\n",
            "Epoch 245/300\n",
            "13/13 [==============================] - 0s 5ms/step - loss: 0.0245 - accuracy: 0.9730 - val_loss: 0.0345 - val_accuracy: 0.9400\n",
            "Epoch 246/300\n",
            "13/13 [==============================] - 0s 5ms/step - loss: 0.0229 - accuracy: 0.9740 - val_loss: 0.0389 - val_accuracy: 0.9500\n",
            "Epoch 247/300\n",
            "13/13 [==============================] - 0s 5ms/step - loss: 0.0228 - accuracy: 0.9736 - val_loss: 0.0355 - val_accuracy: 0.9400\n",
            "Epoch 248/300\n",
            "13/13 [==============================] - 0s 5ms/step - loss: 0.0260 - accuracy: 0.9734 - val_loss: 0.0342 - val_accuracy: 0.9700\n",
            "Epoch 249/300\n",
            "13/13 [==============================] - 0s 5ms/step - loss: 0.0213 - accuracy: 0.9774 - val_loss: 0.0346 - val_accuracy: 0.9500\n",
            "Epoch 250/300\n",
            "13/13 [==============================] - 0s 5ms/step - loss: 0.0173 - accuracy: 0.9796 - val_loss: 0.0341 - val_accuracy: 0.9700\n",
            "Epoch 251/300\n",
            "13/13 [==============================] - 0s 5ms/step - loss: 0.0212 - accuracy: 0.9780 - val_loss: 0.0352 - val_accuracy: 0.9600\n",
            "Epoch 252/300\n",
            "13/13 [==============================] - 0s 6ms/step - loss: 0.0272 - accuracy: 0.9610 - val_loss: 0.0392 - val_accuracy: 0.9200\n",
            "Epoch 253/300\n",
            "13/13 [==============================] - 0s 6ms/step - loss: 0.0240 - accuracy: 0.9702 - val_loss: 0.0351 - val_accuracy: 0.9400\n",
            "Epoch 254/300\n",
            "13/13 [==============================] - 0s 5ms/step - loss: 0.0209 - accuracy: 0.9818 - val_loss: 0.0349 - val_accuracy: 0.9600\n",
            "Epoch 255/300\n",
            "13/13 [==============================] - 0s 5ms/step - loss: 0.0344 - accuracy: 0.9461 - val_loss: 0.0352 - val_accuracy: 0.9500\n",
            "Epoch 256/300\n",
            "13/13 [==============================] - 0s 6ms/step - loss: 0.0153 - accuracy: 0.9874 - val_loss: 0.0329 - val_accuracy: 0.9700\n",
            "Epoch 257/300\n",
            "13/13 [==============================] - 0s 6ms/step - loss: 0.0189 - accuracy: 0.9785 - val_loss: 0.0362 - val_accuracy: 0.9500\n",
            "Epoch 258/300\n",
            "13/13 [==============================] - 0s 5ms/step - loss: 0.0206 - accuracy: 0.9737 - val_loss: 0.0357 - val_accuracy: 0.9400\n",
            "Epoch 259/300\n",
            "13/13 [==============================] - 0s 5ms/step - loss: 0.0203 - accuracy: 0.9804 - val_loss: 0.0321 - val_accuracy: 0.9600\n",
            "Epoch 260/300\n",
            "13/13 [==============================] - 0s 5ms/step - loss: 0.0186 - accuracy: 0.9782 - val_loss: 0.0348 - val_accuracy: 0.9600\n",
            "Epoch 261/300\n",
            "13/13 [==============================] - 0s 5ms/step - loss: 0.0207 - accuracy: 0.9831 - val_loss: 0.0335 - val_accuracy: 0.9500\n",
            "Epoch 262/300\n",
            "13/13 [==============================] - 0s 5ms/step - loss: 0.0200 - accuracy: 0.9771 - val_loss: 0.0349 - val_accuracy: 0.9700\n",
            "Epoch 263/300\n",
            "13/13 [==============================] - 0s 5ms/step - loss: 0.0222 - accuracy: 0.9727 - val_loss: 0.0362 - val_accuracy: 0.9400\n",
            "Epoch 264/300\n",
            "13/13 [==============================] - 0s 5ms/step - loss: 0.0226 - accuracy: 0.9762 - val_loss: 0.0318 - val_accuracy: 0.9600\n",
            "Epoch 265/300\n",
            "13/13 [==============================] - 0s 5ms/step - loss: 0.0218 - accuracy: 0.9711 - val_loss: 0.0337 - val_accuracy: 0.9400\n",
            "Epoch 266/300\n",
            "13/13 [==============================] - 0s 5ms/step - loss: 0.0214 - accuracy: 0.9848 - val_loss: 0.0338 - val_accuracy: 0.9600\n",
            "Epoch 267/300\n",
            "13/13 [==============================] - 0s 5ms/step - loss: 0.0227 - accuracy: 0.9740 - val_loss: 0.0319 - val_accuracy: 0.9700\n",
            "Epoch 268/300\n",
            "13/13 [==============================] - 0s 5ms/step - loss: 0.0241 - accuracy: 0.9731 - val_loss: 0.0373 - val_accuracy: 0.9500\n",
            "Epoch 269/300\n",
            "13/13 [==============================] - 0s 5ms/step - loss: 0.0229 - accuracy: 0.9674 - val_loss: 0.0464 - val_accuracy: 0.9400\n",
            "Epoch 270/300\n",
            "13/13 [==============================] - 0s 6ms/step - loss: 0.0279 - accuracy: 0.9792 - val_loss: 0.0331 - val_accuracy: 0.9600\n",
            "Epoch 271/300\n",
            "13/13 [==============================] - 0s 5ms/step - loss: 0.0190 - accuracy: 0.9838 - val_loss: 0.0329 - val_accuracy: 0.9500\n",
            "Epoch 272/300\n",
            "13/13 [==============================] - 0s 5ms/step - loss: 0.0207 - accuracy: 0.9680 - val_loss: 0.0348 - val_accuracy: 0.9300\n",
            "Epoch 273/300\n",
            "13/13 [==============================] - 0s 5ms/step - loss: 0.0236 - accuracy: 0.9750 - val_loss: 0.0313 - val_accuracy: 0.9700\n",
            "Epoch 274/300\n",
            "13/13 [==============================] - 0s 6ms/step - loss: 0.0228 - accuracy: 0.9691 - val_loss: 0.0326 - val_accuracy: 0.9700\n",
            "Epoch 275/300\n",
            "13/13 [==============================] - 0s 6ms/step - loss: 0.0217 - accuracy: 0.9743 - val_loss: 0.0322 - val_accuracy: 0.9600\n",
            "Epoch 276/300\n",
            "13/13 [==============================] - 0s 5ms/step - loss: 0.0197 - accuracy: 0.9767 - val_loss: 0.0304 - val_accuracy: 0.9600\n",
            "Epoch 277/300\n",
            "13/13 [==============================] - 0s 5ms/step - loss: 0.0154 - accuracy: 0.9866 - val_loss: 0.0324 - val_accuracy: 0.9500\n",
            "Epoch 278/300\n",
            "13/13 [==============================] - 0s 5ms/step - loss: 0.0170 - accuracy: 0.9795 - val_loss: 0.0317 - val_accuracy: 0.9600\n",
            "Epoch 279/300\n",
            "13/13 [==============================] - 0s 5ms/step - loss: 0.0206 - accuracy: 0.9715 - val_loss: 0.0313 - val_accuracy: 0.9700\n",
            "Epoch 280/300\n",
            "13/13 [==============================] - 0s 6ms/step - loss: 0.0188 - accuracy: 0.9758 - val_loss: 0.0324 - val_accuracy: 0.9600\n",
            "Epoch 281/300\n",
            "13/13 [==============================] - 0s 5ms/step - loss: 0.0227 - accuracy: 0.9677 - val_loss: 0.0307 - val_accuracy: 0.9700\n",
            "Epoch 282/300\n",
            "13/13 [==============================] - 0s 5ms/step - loss: 0.0206 - accuracy: 0.9707 - val_loss: 0.0286 - val_accuracy: 0.9700\n",
            "Epoch 283/300\n",
            "13/13 [==============================] - 0s 5ms/step - loss: 0.0211 - accuracy: 0.9798 - val_loss: 0.0332 - val_accuracy: 0.9500\n",
            "Epoch 284/300\n",
            "13/13 [==============================] - 0s 5ms/step - loss: 0.0184 - accuracy: 0.9808 - val_loss: 0.0360 - val_accuracy: 0.9300\n",
            "Epoch 285/300\n",
            "13/13 [==============================] - 0s 5ms/step - loss: 0.0225 - accuracy: 0.9792 - val_loss: 0.0307 - val_accuracy: 0.9600\n",
            "Epoch 286/300\n",
            "13/13 [==============================] - 0s 5ms/step - loss: 0.0169 - accuracy: 0.9802 - val_loss: 0.0334 - val_accuracy: 0.9400\n",
            "Epoch 287/300\n",
            "13/13 [==============================] - 0s 5ms/step - loss: 0.0202 - accuracy: 0.9777 - val_loss: 0.0294 - val_accuracy: 0.9600\n",
            "Epoch 288/300\n",
            "13/13 [==============================] - 0s 5ms/step - loss: 0.0183 - accuracy: 0.9806 - val_loss: 0.0312 - val_accuracy: 0.9700\n",
            "Epoch 289/300\n",
            "13/13 [==============================] - 0s 5ms/step - loss: 0.0185 - accuracy: 0.9825 - val_loss: 0.0379 - val_accuracy: 0.9400\n",
            "Epoch 290/300\n",
            "13/13 [==============================] - 0s 5ms/step - loss: 0.0171 - accuracy: 0.9805 - val_loss: 0.0288 - val_accuracy: 0.9700\n",
            "Epoch 291/300\n",
            "13/13 [==============================] - 0s 5ms/step - loss: 0.0255 - accuracy: 0.9623 - val_loss: 0.0305 - val_accuracy: 0.9600\n",
            "Epoch 292/300\n",
            "13/13 [==============================] - 0s 5ms/step - loss: 0.0224 - accuracy: 0.9800 - val_loss: 0.0335 - val_accuracy: 0.9500\n",
            "Epoch 293/300\n",
            "13/13 [==============================] - 0s 5ms/step - loss: 0.0172 - accuracy: 0.9798 - val_loss: 0.0301 - val_accuracy: 0.9700\n",
            "Epoch 294/300\n",
            "13/13 [==============================] - 0s 5ms/step - loss: 0.0228 - accuracy: 0.9701 - val_loss: 0.0302 - val_accuracy: 0.9600\n",
            "Epoch 295/300\n",
            "13/13 [==============================] - 0s 5ms/step - loss: 0.0173 - accuracy: 0.9886 - val_loss: 0.0324 - val_accuracy: 0.9500\n",
            "Epoch 296/300\n",
            "13/13 [==============================] - 0s 6ms/step - loss: 0.0200 - accuracy: 0.9802 - val_loss: 0.0306 - val_accuracy: 0.9600\n",
            "Epoch 297/300\n",
            "13/13 [==============================] - 0s 5ms/step - loss: 0.0239 - accuracy: 0.9729 - val_loss: 0.0300 - val_accuracy: 0.9500\n",
            "Epoch 298/300\n",
            "13/13 [==============================] - 0s 5ms/step - loss: 0.0172 - accuracy: 0.9769 - val_loss: 0.0333 - val_accuracy: 0.9600\n",
            "Epoch 299/300\n",
            "13/13 [==============================] - 0s 5ms/step - loss: 0.0267 - accuracy: 0.9654 - val_loss: 0.0316 - val_accuracy: 0.9700\n",
            "Epoch 300/300\n",
            "13/13 [==============================] - 0s 5ms/step - loss: 0.0220 - accuracy: 0.9691 - val_loss: 0.0282 - val_accuracy: 0.9700\n"
          ],
          "name": "stdout"
        }
      ]
    },
    {
      "cell_type": "code",
      "metadata": {
        "colab": {
          "base_uri": "https://localhost:8080/",
          "height": 312
        },
        "id": "DEEG8K2Vk1zm",
        "outputId": "339b7e0d-35f2-41d8-8b1b-42ac9973749d"
      },
      "source": [
        "lossCurve = history.history[\"loss\"]\n",
        "plt.plot(lossCurve, label=\"Train\")\n",
        "# plt.legend(loc='upper right')\n",
        "plt.title(\"Loss function\")\n",
        "plt.xlabel(\"epoch number\")"
      ],
      "execution_count": 98,
      "outputs": [
        {
          "output_type": "execute_result",
          "data": {
            "text/plain": [
              "Text(0.5, 0, 'epoch number')"
            ]
          },
          "metadata": {
            "tags": []
          },
          "execution_count": 98
        },
        {
          "output_type": "display_data",
          "data": {
            "image/png": "[encoded data removed]",
            "text/plain": [
              "<Figure size 432x288 with 1 Axes>"
            ]
          },
          "metadata": {
            "tags": [],
            "needs_background": "light"
          }
        }
      ]
    },
    {
      "cell_type": "code",
      "metadata": {
        "colab": {
          "base_uri": "https://localhost:8080/",
          "height": 296
        },
        "id": "Soz_DqEqlADh",
        "outputId": "815ea3d0-08a0-4b99-b6d8-fd4e1720ab6d"
      },
      "source": [
        "accuracyCurve = history.history[\"accuracy\"]\n",
        "plt.plot(accuracyCurve, label=\"Accuracy\")\n",
        "# plt.legend(loc='upper right')\n",
        "plt.ylabel(\"accuracy\")\n",
        "plt.xlabel(\"epoch number\")"
      ],
      "execution_count": 99,
      "outputs": [
        {
          "output_type": "execute_result",
          "data": {
            "text/plain": [
              "Text(0.5, 0, 'epoch number')"
            ]
          },
          "metadata": {
            "tags": []
          },
          "execution_count": 99
        },
        {
          "output_type": "display_data",
          "data": {
            "image/png": "[encoded data removed]",
            "text/plain": [
              "<Figure size 432x288 with 1 Axes>"
            ]
          },
          "metadata": {
            "tags": [],
            "needs_background": "light"
          }
        }
      ]
    },
    {
      "cell_type": "markdown",
      "metadata": {
        "id": "sGP0i5jNlMO1"
      },
      "source": [
        "Şimdi eğitimi tamamlanmış çok katmanlı yapay sinir ağımızı test edelim."
      ]
    },
    {
      "cell_type": "code",
      "metadata": {
        "colab": {
          "base_uri": "https://localhost:8080/",
          "height": 312
        },
        "id": "qvnA_YfMlNTv",
        "outputId": "5e192c25-76ba-4492-c8f1-cc22e6fec44e"
      },
      "source": [
        "y = model.predict(x).round()\n",
        "plt.scatter(x[:,0],x[:,1], marker='.', color='b')\n",
        "# plt.legend(loc='upper right')\n",
        "plt.title(\"Generated 2d data\")\n",
        "plt.xlabel(\"x1\")\n",
        "plt.ylabel(\"x2\")\n",
        "\n",
        "for i, label in enumerate(t):\n",
        "  if (label != y[i]):\n",
        "    plt.scatter(x[i,0],x[i,1], marker='o', color='r') # edgecolors='none'\n",
        "plt.title(\"Generated 2d data\")\n",
        "plt.xlabel(\"x1\")\n",
        "plt.ylabel(\"x2\")"
      ],
      "execution_count": 48,
      "outputs": [
        {
          "output_type": "execute_result",
          "data": {
            "text/plain": [
              "Text(0, 0.5, 'x2')"
            ]
          },
          "metadata": {
            "tags": []
          },
          "execution_count": 48
        },
        {
          "output_type": "display_data",
          "data": {
            "image/png": "[encoded data removed]",
            "text/plain": [
              "<Figure size 432x288 with 1 Axes>"
            ]
          },
          "metadata": {
            "tags": [],
            "needs_background": "light"
          }
        }
      ]
    }
  ]
}